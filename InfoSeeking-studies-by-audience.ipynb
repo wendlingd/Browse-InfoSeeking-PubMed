{
 "cells": [
  {
   "cell_type": "markdown",
   "metadata": {},
   "source": [
    "# Python for browsing MeSH 'Persons' branch in PubMed\n",
    "\n",
    "Author: [Dan Wendling](https://github.com/wendlingd/Browse-InfoSeeking-PubMed); Last modified 2025-07-05\n",
    "\n",
    "**You have to register for a MyNCBI account before you can run this. Details below.**\n",
    "\n",
    "This report counts PubMed studies that describe how various audiences seek and consume biomedical information; an HTML file allows users to browse the list and visit PubMed records without running Python.\n",
    "\n",
    "Requires:\n",
    "    \n",
    "- Email address and API key from your MyNCBI account; https://www.ncbi.nlm.nih.gov/books/NBK3842/\n",
    "- BioPython package and Entrez, https://biopython.org/docs/latest/Tutorial/chapter_entrez.html\n",
    "  - PubMed Entrez esearch: https://biopython.org/docs/latest/Tutorial/chapter_entrez.html#esearch-searching-the-entrez-databases\n",
    "\n",
    "This search strategy uses 6 years as the cutoff, meaning you will retrieve at least 5 years of records.\n",
    "\n",
    "MeSH changes periodically; you may want to update the csv file here to match the pages starting from https://www.ncbi.nlm.nih.gov/mesh/68009272 or https://meshb.nlm.nih.gov/treeView > Named Groups > Persons. Most yearly updates are done by January.\n"
   ]
  },
  {
   "cell_type": "code",
   "execution_count": null,
   "metadata": {},
   "outputs": [],
   "source": [
    "# If needed\n",
    "# !pip install biopython\n",
    "# pip install --upgrade biopython\n"
   ]
  },
  {
   "cell_type": "markdown",
   "metadata": {},
   "source": [
    "---\n",
    "## **Startup**\n"
   ]
  },
  {
   "cell_type": "code",
   "execution_count": null,
   "metadata": {
    "ExecuteTime": {
     "end_time": "2025-07-04T13:41:09.524962Z",
     "start_time": "2025-07-04T13:41:09.096873Z"
    },
    "scrolled": true
   },
   "outputs": [],
   "source": [
    "import os\n",
    "import json\n",
    "from Bio import Entrez\n",
    "import pandas as pd\n",
    "import time\n",
    "import urllib.parse\n",
    "\n",
    "import datetime\n",
    "from datetime import datetime\n",
    "from datetime import timedelta\n",
    "today = datetime.today().strftime('%Y-%m-%d')\n",
    "\n",
    "from pathlib import *\n",
    "# To be used with str(Path.home())\n",
    "# Set working directory and directories for read/write\n",
    "home_folder = str(Path.home()) # os.path.expanduser('~')\n",
    "currFileDir = home_folder + 'Browse-Infoseeking/'\n",
    "\n",
    "print(f'Our file directory is {currFileDir}')\n"
   ]
  },
  {
   "cell_type": "code",
   "execution_count": null,
   "metadata": {},
   "outputs": [],
   "source": [
    "# Load the user groups file - selected levels and terms from the Persons branch (M01) of NLM's MeSH vocabulary\n",
    "audienceList = pd.read_csv('Browse-Infoseeking/Data/MatchFiles/personsBranch.csv')\n",
    "\n",
    "# Limit if testing\n",
    "# audienceList = audienceList.sample(5)\n",
    "\n",
    "print(f'audienceList shape is {audienceList.shape}\\n')\n",
    "audienceList.head(10)\n"
   ]
  },
  {
   "cell_type": "markdown",
   "metadata": {},
   "source": [
    "---\n",
    "## **MyNCBI authentication, testing**\n",
    "\n",
    "The documentation shows many options: \n",
    "- MyNCBI - You must put an email address in your queries: https://www.ncbi.nlm.nih.gov/myncbi/\n",
    "- E-utilities Quick Start: https://www.ncbi.nlm.nih.gov/books/NBK25500/\n",
    "- Also include an API key from your MyNCBI account so you can increase your number of requests per second: https://ncbiinsights.ncbi.nlm.nih.gov/2017/11/02/new-api-keys-for-the-e-utilities/\n",
    "\n",
    "\"In order not to overload the E-utility servers, NCBI recommends that users post no more than three URL requests per second and limit large jobs to either weekends or between 9:00 PM and 5:00 AM Eastern time during weekdays.\" - https://www.ncbi.nlm.nih.gov/books/NBK25497/\n"
   ]
  },
  {
   "cell_type": "code",
   "execution_count": null,
   "metadata": {},
   "outputs": [],
   "source": [
    "# Set a delay to avoid getting blocked\n",
    "TIME_DELAY = 0.5\n",
    "\n",
    "# Load credentials and set Entrez parameters. These will be automatically included in the API requests below.\n",
    "with open('cred.json') as f:\n",
    "    creds = json.load(f)\n",
    "\n",
    "Entrez.email = creds['email']\n",
    "Entrez.api_key = creds['key']\n",
    "\n",
    "print(Entrez.email)\n"
   ]
  },
  {
   "cell_type": "code",
   "execution_count": null,
   "metadata": {},
   "outputs": [],
   "source": [
    "# Test your authentication by asking for the list of supported databases\n",
    "with Entrez.einfo() as handle:\n",
    "    record = Entrez.read(handle)\n",
    "\n",
    "print(record[\"DbList\"])\n"
   ]
  },
  {
   "cell_type": "code",
   "execution_count": null,
   "metadata": {},
   "outputs": [],
   "source": [
    "# Test pubmed access by asking for one recordset count\n",
    "stream = Entrez.esearch(db=\"pubmed\", term=\"health literacy[Mesh]\", retmax=0)\n",
    "record = Entrez.read(stream)\n",
    "\n",
    "print(f'{int(record[\"Count\"]):,}')\n"
   ]
  },
  {
   "cell_type": "markdown",
   "metadata": {},
   "source": [
    "---\n",
    "## **Configure the search query**\n",
    "\n",
    "You can alter the search strategy to suit your need. The default is below. One example of a URL encoder/decoder is https://meyerweb.com/eric/tools/dencoder/\n",
    "\n",
    "```\n",
    "(NAMED AUDIENCE)[Mesh]\n",
    "AND (\"Information Seeking Behavior\"[Mesh] OR \"user stud*\"[Title/Abstract] OR \"case stud*\"[Title/Abstract] OR usability[Title/Abstract])\n",
    "AND (\"last 6 years\"[PDat])\n",
    "```\n",
    "\n",
    "We experimented with the following; however, the number of false positives may require extra time to sort through:\n",
    "\n",
    "- \"User-Centered Design\"[Mesh]\n",
    "- \"Human-Centered Design\"[Title/Abstract]\n",
    "- \"Consumer Health Information\"[Mesh]\n",
    "- \"Data Collection\"[Mesh] \n",
    "- \"Qualitative Research\"[Mesh] \n",
    "- \"interview*\"[Title/Abstract]\n"
   ]
  },
  {
   "cell_type": "code",
   "execution_count": null,
   "metadata": {},
   "outputs": [],
   "source": [
    "# --- constant parts of the search -------------------------------------------\n",
    "CORE_FILTERS = (\n",
    "    ' AND (\"Information Seeking Behavior\"[Mesh] '\n",
    "    'OR \"user stud*\"[Title/Abstract] '\n",
    "    'OR \"case stud*\"[Title/Abstract] '\n",
    "    'OR usability[Title/Abstract]) '\n",
    "    'AND (\"last 6 years\"[PDat])'\n",
    ")\n",
    "PUBMED_BASE  = \"https://pubmed.ncbi.nlm.nih.gov/?term=\"\n"
   ]
  },
  {
   "cell_type": "markdown",
   "metadata": {},
   "source": [
    "---\n",
    "## **Collect from API**\n"
   ]
  },
  {
   "cell_type": "code",
   "execution_count": null,
   "metadata": {},
   "outputs": [],
   "source": [
    "def build_query(mesh_term: str) -> str:\n",
    "    \"\"\"Return a full PubMed query for one MeSH descriptor.\"\"\"\n",
    "    descriptor = f'\"{mesh_term}\"[Mesh]' if \" \" in mesh_term else f'{mesh_term}[Mesh]'\n",
    "    return descriptor + CORE_FILTERS\n",
    "\n",
    "def get_count(mesh_term: str) -> int:\n",
    "    \"\"\"Fetch record count for a single PubMed query.\"\"\"\n",
    "    query = build_query(mesh_term)\n",
    "    try:\n",
    "        with Entrez.esearch(db=\"pubmed\",\n",
    "                            term=query,\n",
    "                            retmax=0,           # we only need the count\n",
    "                            rettype=\"count\") as h:\n",
    "            res = Entrez.read(h)\n",
    "        return int(res[\"Count\"])\n",
    "    except Exception as exc:\n",
    "        print(f\"{mesh_term}: {exc}\")\n",
    "        return 0\n",
    "\n",
    "def make_link(query: str, count: int) -> str:\n",
    "    \"\"\"Convert query & count into an HTML hyperlink.\"\"\"\n",
    "    url = PUBMED_BASE + urllib.parse.quote_plus(query)\n",
    "    return f'<a href=\"{url}\" target=\"_blank\">{count:,}</a>'\n",
    "\n",
    "# ---------------------------------------------------------------------------\n",
    "results = []\n",
    "\n",
    "for _, row in audienceList.iterrows():\n",
    "    term   = row[\"MeSH\"]\n",
    "    indent = row[\"Indent\"]\n",
    "\n",
    "    query  = build_query(term)\n",
    "    count  = get_count(term)\n",
    "    if count:\n",
    "        results.append([indent, term, make_link(query, count)])\n",
    "        print(f\"{term}: {count:,}\")\n",
    "\n",
    "    time.sleep(TIME_DELAY)\n",
    "\n",
    "databaseResult = pd.DataFrame(results, columns=[\"Indent\", \"MeSH\", \"Count\"])\n",
    "\n",
    "print(\"\\n=== Done ===\")\n"
   ]
  },
  {
   "cell_type": "code",
   "execution_count": null,
   "metadata": {},
   "outputs": [],
   "source": [
    "# View the resulting dataframe\n",
    "pd.set_option('display.max_colwidth', None)\n",
    "\n",
    "databaseResult.head()\n"
   ]
  },
  {
   "cell_type": "markdown",
   "metadata": {},
   "source": [
    "---\n",
    "## **Output to HTML**"
   ]
  },
  {
   "cell_type": "code",
   "execution_count": null,
   "metadata": {},
   "outputs": [],
   "source": [
    "# Add list item content\n",
    "def make_html_row(row):\n",
    "    return f'<li class=\"indent{row[\"Indent\"]}\">{row[\"MeSH\"]} ({row[\"Count\"]})</li>'\n",
    "\n",
    "# Generate the <li> rows\n",
    "databaseResult['HTML'] = databaseResult.apply(make_html_row, axis=1)\n",
    "\n",
    "# HTML skeleton\n",
    "html_builder = [\n",
    "    \"<html><head><title>Audience-specific information studies at pubmed.gov</title>\",\n",
    "    \"<style>\",\n",
    "    \"  body {margin-left:1em; font-family: Arial, Helvetica, sans-serif;}\",\n",
    "    \"  ul {list-style-type: none; margin-left:0; padding-left:0;}\",\n",
    "    \"  .indent1 {padding-left:0em;}\",\n",
    "    \"  .indent2 {padding-left:2em;}\",\n",
    "    \"  .indent3 {padding-left:4em;}\",\n",
    "    \"  .indent4 {padding-left:6em;}\",\n",
    "    \"  .indent5 {padding-left:8em;}\",\n",
    "    \"</style></head><body>\",\n",
    "    \"<h1>Understand your audiences: Health-medical information-seeking-behavior studies at pubmed.gov</h1>\",\n",
    "    f\"<p><strong>{today}</strong> &ndash; Use this report to understand information needs, information seeking, and \",\n",
    "    \"information-use behaviors for various audiences for biomedical information. Example: The &quot;caregivers&quot; \",\n",
    "    \"link below runs the following search strategy at \",\n",
    "    '<a href=\"https://pubmed.ncbi.nlm.nih.gov/\">https://pubmed.ncbi.nlm.nih.gov/</a>: Caregivers[Mesh] AND ',\n",
    "    \"(&quot;Information Seeking Behavior&quot;[Mesh] OR &quot;user stud*&quot;[Title/Abstract] OR &quot;case \",\n",
    "    \"stud*&quot;[Title/Abstract] OR usability[Title/Abstract]) AND (&quot;last 6 years&quot;[PDat]). This report \",\n",
    "    \"was built from selected layers and terms in the \",\n",
    "    '<a href=\"https://www.ncbi.nlm.nih.gov/mesh/68009272\">Persons branch of the MeSH tree.</a> Terms with zero ',\n",
    "    \"results are not shown. Note: New database records are built incrementally, and some new records do not have \",\n",
    "    \"MeSH terms - the newest records may not be retrievable here. Counts will go out of date; Python code for running \",\n",
    "    \"the report yourself is at \",\n",
    "    '<a href=\"https://github.com/wendlingd/Browse-InfoSeeking-PubMed\">https://github.com/wendlingd/Browse-InfoSeeking-PubMed.</a></p>',\n",
    "    \"<ul>\"\n",
    "]\n",
    "\n",
    "# Append all list items\n",
    "html_builder.extend(databaseResult['HTML'].tolist())\n",
    "\n",
    "# Close the HTML\n",
    "html_builder.extend([\n",
    "    \"</ul>\",\n",
    "    \"</body>\",\n",
    "    \"</html>\"\n",
    "])\n",
    "\n",
    "# Write the output file\n",
    "output_path = \"Doc/DataReports/InfoSeekingStudies.html\"\n",
    "with open(output_path, \"w\", encoding=\"utf-8\") as f:\n",
    "    f.write('\\n'.join(html_builder))\n",
    "\n",
    "print(f'\\n*** Done ***\\n\\nReport written to Doc/DataReports/InfoSeekingStudies.html. If you log into your MyNCBI account before viewing the report, the search terms will be highlighted.')\n",
    "\n"
   ]
  },
  {
   "cell_type": "code",
   "execution_count": null,
   "metadata": {},
   "outputs": [],
   "source": []
  }
 ],
 "metadata": {
  "kernelspec": {
   "display_name": "Python 3 (ipykernel)",
   "language": "python",
   "name": "python3"
  },
  "language_info": {
   "codemirror_mode": {
    "name": "ipython",
    "version": 3
   },
   "file_extension": ".py",
   "mimetype": "text/x-python",
   "name": "python",
   "nbconvert_exporter": "python",
   "pygments_lexer": "ipython3",
   "version": "3.12.0"
  },
  "toc": {
   "base_numbering": 1,
   "nav_menu": {},
   "number_sections": true,
   "sideBar": true,
   "skip_h1_title": true,
   "title_cell": "Table of Contents",
   "title_sidebar": "Contents",
   "toc_cell": false,
   "toc_position": {},
   "toc_section_display": true,
   "toc_window_display": true
  }
 },
 "nbformat": 4,
 "nbformat_minor": 4
}
